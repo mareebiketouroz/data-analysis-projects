{
 "cells": [
  {
   "cell_type": "markdown",
   "metadata": {},
   "source": [
    "# Is there a correlation between maximum temperatures increasing and a larger diurnal range in Melbourne?"
   ]
  },
  {
   "cell_type": "markdown",
   "metadata": {},
   "source": [
    "## Introduction\n",
    "\n",
    "This analysis looks at the Melbourne minimum and maximum temperatures observed in Melbourne, Australia to see if there is any correlation between maximum temperatures increasing and a larger range of temperatures experienced over the day (diurnal range).\n",
    "\n",
    "High diurnal range climates tend to put more pressure on power generation and transport infrastructure as well as civil engineering considerations. Building design that uses high thermal mass wall cladding becomes more relevant the greater the range of temperature experienced. (Ranges of 7 to 10 degrees C, thermal mass materials can be useful, depending on climate; diurnal ranges over 10 degrees C high mass construction is desirable). The health of vulnerable members of the population, flora and fauna may also be negatively impacted by a broader diurnal temperature range.\n",
    "\n",
    "## Data sources\n",
    "\n",
    "The ACORN-SAT daily minimum temperature and daily maximum temperature datasets were used, with full years data between 1910 and 2014 at the Melbourne Regional OFfice.\n",
    "\n",
    "* http://www.bom.gov.au/climate/change/acorn/sat/data/acorn.sat.minT.086071.daily.txt\n",
    "* http://www.bom.gov.au/climate/change/acorn/sat/data/acorn.sat.maxT.086071.daily.txt\n",
    "\n",
    "## References\n",
    "\n",
    "* [Spearmans correlation and classification of strength of correlation](http://www.statstutor.ac.uk/resources/uploaded/spearmans.pdf)\n",
    "* [Building Schools in the 21st Century](https://www.eduweb.vic.gov.au/edulibrary/public/publ/research/publ/Building_schools_in_the_21st_century.pdf) - specifically p.8 mentions thermal mass and diurnal range.\n",
    "* [Impacts and Adaption Responses of infrastructure and communities during heatwaves](https://www.nccarf.edu.au/business/sites/www.nccarf.edu.au.business/files/attached_files_publications/Pub%2013_10%20Southern%20Cities%20Heatwaves%20-%20Complete%20Findings.pdf)\n",
    "* [Urban Infrastructure: Finance and Management](https://books.google.com.au/books?id=XfRyUH4771wC&pg=PT228&lpg=PT228&dq=diurnal+range+effect+on+infrastructure&source=bl&ots=cQyCmejkVw&sig=kkDcINlmccefEQJvPivzCUkKibk&hl=en&sa=X&ved=0ahUKEwivhfy0ranJAhUkOKYKHc5FCIoQ6AEIQzAJ#v=onepage&q=diurnal%20range%20effect%20on%20infrastructure&f=false)\n",
    "\n",
    "## Processing the data\n",
    "\n",
    "### Loading the data"
   ]
  },
  {
   "cell_type": "code",
   "execution_count": 54,
   "metadata": {
    "collapsed": true
   },
   "outputs": [],
   "source": [
    "URL_MIN = \"http://www.bom.gov.au/climate/change/acorn/sat/data/acorn.sat.minT.086071.daily.txt\"\n",
    "URL_MAX = \"http://www.bom.gov.au/climate/change/acorn/sat/data/acorn.sat.maxT.086071.daily.txt\"\n",
    "DATE_HEADING = \"date\"\n",
    "MIN_T_HEADING = \"minT\"\n",
    "MAX_T_HEADING = \"maxT\""
   ]
  },
  {
   "cell_type": "code",
   "execution_count": 43,
   "metadata": {
    "collapsed": true
   },
   "outputs": [],
   "source": [
    "from pandas import *"
   ]
  },
  {
   "cell_type": "code",
   "execution_count": 44,
   "metadata": {
    "collapsed": false
   },
   "outputs": [
    {
     "data": {
      "text/plain": [
       "date      int64\n",
       "minT    float64\n",
       "dtype: object"
      ]
     },
     "execution_count": 44,
     "metadata": {},
     "output_type": "execute_result"
    }
   ],
   "source": [
    "## load minT data\n",
    "minT = read_table(\n",
    "    URL_MIN, \n",
    "    header=None, \n",
    "    sep=\"\\s*\", # some amount of whitespace\n",
    "    skiprows=1, \n",
    "    engine=\"python\", # required to use regex in sep\n",
    "    index_col=False,\n",
    "    na_values=99999.9,\n",
    "    names=[DATE_HEADING,MIN_T_HEADING]) # no header supplied\n",
    "## check dtypes (as dtypes not supported with engine python)\n",
    "minT.dtypes"
   ]
  },
  {
   "cell_type": "code",
   "execution_count": 45,
   "metadata": {
    "collapsed": false
   },
   "outputs": [
    {
     "data": {
      "text/html": [
       "<div>\n",
       "<table border=\"1\" class=\"dataframe\">\n",
       "  <thead>\n",
       "    <tr style=\"text-align: right;\">\n",
       "      <th></th>\n",
       "      <th>date</th>\n",
       "      <th>minT</th>\n",
       "    </tr>\n",
       "  </thead>\n",
       "  <tbody>\n",
       "    <tr>\n",
       "      <th>0</th>\n",
       "      <td>19100101</td>\n",
       "      <td>9.9</td>\n",
       "    </tr>\n",
       "    <tr>\n",
       "      <th>1</th>\n",
       "      <td>19100102</td>\n",
       "      <td>14.5</td>\n",
       "    </tr>\n",
       "    <tr>\n",
       "      <th>2</th>\n",
       "      <td>19100103</td>\n",
       "      <td>24.3</td>\n",
       "    </tr>\n",
       "    <tr>\n",
       "      <th>3</th>\n",
       "      <td>19100104</td>\n",
       "      <td>17.7</td>\n",
       "    </tr>\n",
       "    <tr>\n",
       "      <th>4</th>\n",
       "      <td>19100105</td>\n",
       "      <td>13.8</td>\n",
       "    </tr>\n",
       "  </tbody>\n",
       "</table>\n",
       "</div>"
      ],
      "text/plain": [
       "       date  minT\n",
       "0  19100101   9.9\n",
       "1  19100102  14.5\n",
       "2  19100103  24.3\n",
       "3  19100104  17.7\n",
       "4  19100105  13.8"
      ]
     },
     "execution_count": 45,
     "metadata": {},
     "output_type": "execute_result"
    }
   ],
   "source": [
    "# check head and tail\n",
    "minT.head()"
   ]
  },
  {
   "cell_type": "code",
   "execution_count": 46,
   "metadata": {
    "collapsed": false
   },
   "outputs": [
    {
     "data": {
      "text/html": [
       "<div>\n",
       "<table border=\"1\" class=\"dataframe\">\n",
       "  <thead>\n",
       "    <tr style=\"text-align: right;\">\n",
       "      <th></th>\n",
       "      <th>date</th>\n",
       "      <th>minT</th>\n",
       "    </tr>\n",
       "  </thead>\n",
       "  <tbody>\n",
       "    <tr>\n",
       "      <th>38346</th>\n",
       "      <td>20141227</td>\n",
       "      <td>12.2</td>\n",
       "    </tr>\n",
       "    <tr>\n",
       "      <th>38347</th>\n",
       "      <td>20141228</td>\n",
       "      <td>13.4</td>\n",
       "    </tr>\n",
       "    <tr>\n",
       "      <th>38348</th>\n",
       "      <td>20141229</td>\n",
       "      <td>17.5</td>\n",
       "    </tr>\n",
       "    <tr>\n",
       "      <th>38349</th>\n",
       "      <td>20141230</td>\n",
       "      <td>13.4</td>\n",
       "    </tr>\n",
       "    <tr>\n",
       "      <th>38350</th>\n",
       "      <td>20141231</td>\n",
       "      <td>11.9</td>\n",
       "    </tr>\n",
       "  </tbody>\n",
       "</table>\n",
       "</div>"
      ],
      "text/plain": [
       "           date  minT\n",
       "38346  20141227  12.2\n",
       "38347  20141228  13.4\n",
       "38348  20141229  17.5\n",
       "38349  20141230  13.4\n",
       "38350  20141231  11.9"
      ]
     },
     "execution_count": 46,
     "metadata": {},
     "output_type": "execute_result"
    }
   ],
   "source": [
    "minT.tail()"
   ]
  },
  {
   "cell_type": "code",
   "execution_count": 47,
   "metadata": {
    "collapsed": false
   },
   "outputs": [
    {
     "data": {
      "text/plain": [
       "date      int64\n",
       "minT    float64\n",
       "dtype: object"
      ]
     },
     "execution_count": 47,
     "metadata": {},
     "output_type": "execute_result"
    }
   ],
   "source": [
    "## load maxT data\n",
    "maxT = read_table(\n",
    "    URL_MAX, \n",
    "    header=None, \n",
    "    sep=\"\\s*\", # some amount of whitespace\n",
    "    skiprows=1, \n",
    "    engine=\"python\", # required to use regex in sep\n",
    "    index_col=False,\n",
    "    na_values=99999.9,\n",
    "    names=[DATE_HEADING,MAX_T_HEADING]) # no header supplied\n",
    "## check dtypes (as dtypes not supported with engine python)\n",
    "minT.dtypes"
   ]
  },
  {
   "cell_type": "code",
   "execution_count": 48,
   "metadata": {
    "collapsed": false
   },
   "outputs": [
    {
     "data": {
      "text/html": [
       "<div>\n",
       "<table border=\"1\" class=\"dataframe\">\n",
       "  <thead>\n",
       "    <tr style=\"text-align: right;\">\n",
       "      <th></th>\n",
       "      <th>date</th>\n",
       "      <th>maxT</th>\n",
       "    </tr>\n",
       "  </thead>\n",
       "  <tbody>\n",
       "    <tr>\n",
       "      <th>0</th>\n",
       "      <td>19100101</td>\n",
       "      <td>30.7</td>\n",
       "    </tr>\n",
       "    <tr>\n",
       "      <th>1</th>\n",
       "      <td>19100102</td>\n",
       "      <td>38.6</td>\n",
       "    </tr>\n",
       "    <tr>\n",
       "      <th>2</th>\n",
       "      <td>19100103</td>\n",
       "      <td>36.9</td>\n",
       "    </tr>\n",
       "    <tr>\n",
       "      <th>3</th>\n",
       "      <td>19100104</td>\n",
       "      <td>23.3</td>\n",
       "    </tr>\n",
       "    <tr>\n",
       "      <th>4</th>\n",
       "      <td>19100105</td>\n",
       "      <td>28.5</td>\n",
       "    </tr>\n",
       "  </tbody>\n",
       "</table>\n",
       "</div>"
      ],
      "text/plain": [
       "       date  maxT\n",
       "0  19100101  30.7\n",
       "1  19100102  38.6\n",
       "2  19100103  36.9\n",
       "3  19100104  23.3\n",
       "4  19100105  28.5"
      ]
     },
     "execution_count": 48,
     "metadata": {},
     "output_type": "execute_result"
    }
   ],
   "source": [
    "# check head and tail\n",
    "maxT.head()"
   ]
  },
  {
   "cell_type": "code",
   "execution_count": 49,
   "metadata": {
    "collapsed": false
   },
   "outputs": [
    {
     "data": {
      "text/html": [
       "<div>\n",
       "<table border=\"1\" class=\"dataframe\">\n",
       "  <thead>\n",
       "    <tr style=\"text-align: right;\">\n",
       "      <th></th>\n",
       "      <th>date</th>\n",
       "      <th>maxT</th>\n",
       "    </tr>\n",
       "  </thead>\n",
       "  <tbody>\n",
       "    <tr>\n",
       "      <th>38346</th>\n",
       "      <td>20141227</td>\n",
       "      <td>23.0</td>\n",
       "    </tr>\n",
       "    <tr>\n",
       "      <th>38347</th>\n",
       "      <td>20141228</td>\n",
       "      <td>32.1</td>\n",
       "    </tr>\n",
       "    <tr>\n",
       "      <th>38348</th>\n",
       "      <td>20141229</td>\n",
       "      <td>26.4</td>\n",
       "    </tr>\n",
       "    <tr>\n",
       "      <th>38349</th>\n",
       "      <td>20141230</td>\n",
       "      <td>24.6</td>\n",
       "    </tr>\n",
       "    <tr>\n",
       "      <th>38350</th>\n",
       "      <td>20141231</td>\n",
       "      <td>25.8</td>\n",
       "    </tr>\n",
       "  </tbody>\n",
       "</table>\n",
       "</div>"
      ],
      "text/plain": [
       "           date  maxT\n",
       "38346  20141227  23.0\n",
       "38347  20141228  32.1\n",
       "38348  20141229  26.4\n",
       "38349  20141230  24.6\n",
       "38350  20141231  25.8"
      ]
     },
     "execution_count": 49,
     "metadata": {},
     "output_type": "execute_result"
    }
   ],
   "source": [
    "maxT.tail()"
   ]
  },
  {
   "cell_type": "markdown",
   "metadata": {},
   "source": [
    "### Merging minimum and maximum datasets into a single dataframe"
   ]
  },
  {
   "cell_type": "code",
   "execution_count": 60,
   "metadata": {
    "collapsed": false
   },
   "outputs": [
    {
     "data": {
      "text/html": [
       "<div>\n",
       "<table border=\"1\" class=\"dataframe\">\n",
       "  <thead>\n",
       "    <tr style=\"text-align: right;\">\n",
       "      <th></th>\n",
       "      <th>date</th>\n",
       "      <th>minT</th>\n",
       "      <th>maxT</th>\n",
       "    </tr>\n",
       "  </thead>\n",
       "  <tbody>\n",
       "    <tr>\n",
       "      <th>0</th>\n",
       "      <td>19100101</td>\n",
       "      <td>9.9</td>\n",
       "      <td>30.7</td>\n",
       "    </tr>\n",
       "    <tr>\n",
       "      <th>1</th>\n",
       "      <td>19100102</td>\n",
       "      <td>14.5</td>\n",
       "      <td>38.6</td>\n",
       "    </tr>\n",
       "    <tr>\n",
       "      <th>2</th>\n",
       "      <td>19100103</td>\n",
       "      <td>24.3</td>\n",
       "      <td>36.9</td>\n",
       "    </tr>\n",
       "    <tr>\n",
       "      <th>3</th>\n",
       "      <td>19100104</td>\n",
       "      <td>17.7</td>\n",
       "      <td>23.3</td>\n",
       "    </tr>\n",
       "    <tr>\n",
       "      <th>4</th>\n",
       "      <td>19100105</td>\n",
       "      <td>13.8</td>\n",
       "      <td>28.5</td>\n",
       "    </tr>\n",
       "  </tbody>\n",
       "</table>\n",
       "</div>"
      ],
      "text/plain": [
       "       date  minT  maxT\n",
       "0  19100101   9.9  30.7\n",
       "1  19100102  14.5  38.6\n",
       "2  19100103  24.3  36.9\n",
       "3  19100104  17.7  23.3\n",
       "4  19100105  13.8  28.5"
      ]
     },
     "execution_count": 60,
     "metadata": {},
     "output_type": "execute_result"
    }
   ],
   "source": [
    "data = merge(minT, maxT, on=DATE_HEADING, how=\"inner\")\n",
    "data.head()"
   ]
  },
  {
   "cell_type": "markdown",
   "metadata": {},
   "source": [
    "### Changing date to a datetime dtype and using it as the index"
   ]
  },
  {
   "cell_type": "code",
   "execution_count": 61,
   "metadata": {
    "collapsed": false
   },
   "outputs": [
    {
     "data": {
      "text/html": [
       "<div>\n",
       "<table border=\"1\" class=\"dataframe\">\n",
       "  <thead>\n",
       "    <tr style=\"text-align: right;\">\n",
       "      <th></th>\n",
       "      <th>date</th>\n",
       "      <th>minT</th>\n",
       "      <th>maxT</th>\n",
       "    </tr>\n",
       "  </thead>\n",
       "  <tbody>\n",
       "    <tr>\n",
       "      <th>0</th>\n",
       "      <td>1910-01-01</td>\n",
       "      <td>9.9</td>\n",
       "      <td>30.7</td>\n",
       "    </tr>\n",
       "    <tr>\n",
       "      <th>1</th>\n",
       "      <td>1910-01-02</td>\n",
       "      <td>14.5</td>\n",
       "      <td>38.6</td>\n",
       "    </tr>\n",
       "    <tr>\n",
       "      <th>2</th>\n",
       "      <td>1910-01-03</td>\n",
       "      <td>24.3</td>\n",
       "      <td>36.9</td>\n",
       "    </tr>\n",
       "    <tr>\n",
       "      <th>3</th>\n",
       "      <td>1910-01-04</td>\n",
       "      <td>17.7</td>\n",
       "      <td>23.3</td>\n",
       "    </tr>\n",
       "    <tr>\n",
       "      <th>4</th>\n",
       "      <td>1910-01-05</td>\n",
       "      <td>13.8</td>\n",
       "      <td>28.5</td>\n",
       "    </tr>\n",
       "  </tbody>\n",
       "</table>\n",
       "</div>"
      ],
      "text/plain": [
       "        date  minT  maxT\n",
       "0 1910-01-01   9.9  30.7\n",
       "1 1910-01-02  14.5  38.6\n",
       "2 1910-01-03  24.3  36.9\n",
       "3 1910-01-04  17.7  23.3\n",
       "4 1910-01-05  13.8  28.5"
      ]
     },
     "execution_count": 61,
     "metadata": {},
     "output_type": "execute_result"
    }
   ],
   "source": [
    "data[DATE_HEADING] = to_datetime(data[DATE_HEADING],format=\"%Y%m%d\")\n",
    "data.head()"
   ]
  },
  {
   "cell_type": "code",
   "execution_count": 62,
   "metadata": {
    "collapsed": false
   },
   "outputs": [
    {
     "data": {
      "text/html": [
       "<div>\n",
       "<table border=\"1\" class=\"dataframe\">\n",
       "  <thead>\n",
       "    <tr style=\"text-align: right;\">\n",
       "      <th></th>\n",
       "      <th>date</th>\n",
       "      <th>minT</th>\n",
       "      <th>maxT</th>\n",
       "    </tr>\n",
       "    <tr>\n",
       "      <th>date</th>\n",
       "      <th></th>\n",
       "      <th></th>\n",
       "      <th></th>\n",
       "    </tr>\n",
       "  </thead>\n",
       "  <tbody>\n",
       "    <tr>\n",
       "      <th>1910-01-01</th>\n",
       "      <td>1910-01-01</td>\n",
       "      <td>9.9</td>\n",
       "      <td>30.7</td>\n",
       "    </tr>\n",
       "    <tr>\n",
       "      <th>1910-01-02</th>\n",
       "      <td>1910-01-02</td>\n",
       "      <td>14.5</td>\n",
       "      <td>38.6</td>\n",
       "    </tr>\n",
       "    <tr>\n",
       "      <th>1910-01-03</th>\n",
       "      <td>1910-01-03</td>\n",
       "      <td>24.3</td>\n",
       "      <td>36.9</td>\n",
       "    </tr>\n",
       "    <tr>\n",
       "      <th>1910-01-04</th>\n",
       "      <td>1910-01-04</td>\n",
       "      <td>17.7</td>\n",
       "      <td>23.3</td>\n",
       "    </tr>\n",
       "    <tr>\n",
       "      <th>1910-01-05</th>\n",
       "      <td>1910-01-05</td>\n",
       "      <td>13.8</td>\n",
       "      <td>28.5</td>\n",
       "    </tr>\n",
       "  </tbody>\n",
       "</table>\n",
       "</div>"
      ],
      "text/plain": [
       "                 date  minT  maxT\n",
       "date                             \n",
       "1910-01-01 1910-01-01   9.9  30.7\n",
       "1910-01-02 1910-01-02  14.5  38.6\n",
       "1910-01-03 1910-01-03  24.3  36.9\n",
       "1910-01-04 1910-01-04  17.7  23.3\n",
       "1910-01-05 1910-01-05  13.8  28.5"
      ]
     },
     "execution_count": 62,
     "metadata": {},
     "output_type": "execute_result"
    }
   ],
   "source": [
    "data.index = data['date']\n",
    "data.head()"
   ]
  },
  {
   "cell_type": "code",
   "execution_count": 71,
   "metadata": {
    "collapsed": false
   },
   "outputs": [
    {
     "data": {
      "text/html": [
       "<div>\n",
       "<table border=\"1\" class=\"dataframe\">\n",
       "  <thead>\n",
       "    <tr style=\"text-align: right;\">\n",
       "      <th></th>\n",
       "      <th>minT</th>\n",
       "      <th>maxT</th>\n",
       "    </tr>\n",
       "    <tr>\n",
       "      <th>date</th>\n",
       "      <th></th>\n",
       "      <th></th>\n",
       "    </tr>\n",
       "  </thead>\n",
       "  <tbody>\n",
       "    <tr>\n",
       "      <th>1910-01-01</th>\n",
       "      <td>9.9</td>\n",
       "      <td>30.7</td>\n",
       "    </tr>\n",
       "    <tr>\n",
       "      <th>1910-01-02</th>\n",
       "      <td>14.5</td>\n",
       "      <td>38.6</td>\n",
       "    </tr>\n",
       "    <tr>\n",
       "      <th>1910-01-03</th>\n",
       "      <td>24.3</td>\n",
       "      <td>36.9</td>\n",
       "    </tr>\n",
       "    <tr>\n",
       "      <th>1910-01-04</th>\n",
       "      <td>17.7</td>\n",
       "      <td>23.3</td>\n",
       "    </tr>\n",
       "    <tr>\n",
       "      <th>1910-01-05</th>\n",
       "      <td>13.8</td>\n",
       "      <td>28.5</td>\n",
       "    </tr>\n",
       "  </tbody>\n",
       "</table>\n",
       "</div>"
      ],
      "text/plain": [
       "            minT  maxT\n",
       "date                  \n",
       "1910-01-01   9.9  30.7\n",
       "1910-01-02  14.5  38.6\n",
       "1910-01-03  24.3  36.9\n",
       "1910-01-04  17.7  23.3\n",
       "1910-01-05  13.8  28.5"
      ]
     },
     "execution_count": 71,
     "metadata": {},
     "output_type": "execute_result"
    }
   ],
   "source": [
    "HEADINGS = [MIN_T_HEADING, MAX_T_HEADING]\n",
    "data = data[HEADINGS]\n",
    "data.head()"
   ]
  },
  {
   "cell_type": "code",
   "execution_count": 93,
   "metadata": {
    "collapsed": false
   },
   "outputs": [],
   "source": [
    "#%matplotlib inline\n",
    "#data.plot(figsize=(15,5))"
   ]
  },
  {
   "cell_type": "markdown",
   "metadata": {},
   "source": [
    "### Adding range calculations to the dataframe"
   ]
  },
  {
   "cell_type": "code",
   "execution_count": 83,
   "metadata": {
    "collapsed": false
   },
   "outputs": [
    {
     "data": {
      "text/html": [
       "<div>\n",
       "<table border=\"1\" class=\"dataframe\">\n",
       "  <thead>\n",
       "    <tr style=\"text-align: right;\">\n",
       "      <th></th>\n",
       "      <th>minT</th>\n",
       "      <th>maxT</th>\n",
       "      <th>Range</th>\n",
       "    </tr>\n",
       "    <tr>\n",
       "      <th>date</th>\n",
       "      <th></th>\n",
       "      <th></th>\n",
       "      <th></th>\n",
       "    </tr>\n",
       "  </thead>\n",
       "  <tbody>\n",
       "    <tr>\n",
       "      <th>1910-01-01</th>\n",
       "      <td>9.9</td>\n",
       "      <td>30.7</td>\n",
       "      <td>20.8</td>\n",
       "    </tr>\n",
       "    <tr>\n",
       "      <th>1910-01-02</th>\n",
       "      <td>14.5</td>\n",
       "      <td>38.6</td>\n",
       "      <td>24.1</td>\n",
       "    </tr>\n",
       "    <tr>\n",
       "      <th>1910-01-03</th>\n",
       "      <td>24.3</td>\n",
       "      <td>36.9</td>\n",
       "      <td>12.6</td>\n",
       "    </tr>\n",
       "    <tr>\n",
       "      <th>1910-01-04</th>\n",
       "      <td>17.7</td>\n",
       "      <td>23.3</td>\n",
       "      <td>5.6</td>\n",
       "    </tr>\n",
       "    <tr>\n",
       "      <th>1910-01-05</th>\n",
       "      <td>13.8</td>\n",
       "      <td>28.5</td>\n",
       "      <td>14.7</td>\n",
       "    </tr>\n",
       "  </tbody>\n",
       "</table>\n",
       "</div>"
      ],
      "text/plain": [
       "            minT  maxT  Range\n",
       "date                         \n",
       "1910-01-01   9.9  30.7   20.8\n",
       "1910-01-02  14.5  38.6   24.1\n",
       "1910-01-03  24.3  36.9   12.6\n",
       "1910-01-04  17.7  23.3    5.6\n",
       "1910-01-05  13.8  28.5   14.7"
      ]
     },
     "execution_count": 83,
     "metadata": {},
     "output_type": "execute_result"
    }
   ],
   "source": [
    "DIURNAL_RANGE_HEADING = 'Range'\n",
    "data[DIURNAL_RANGE_HEADING] = data[MAX_T_HEADING] - data[MIN_T_HEADING]\n",
    "data.head()"
   ]
  },
  {
   "cell_type": "code",
   "execution_count": 95,
   "metadata": {
    "collapsed": true
   },
   "outputs": [],
   "source": [
    "data.to_csv(\"Melbourne_Climate.csv\", index_label='date')"
   ]
  },
  {
   "cell_type": "code",
   "execution_count": 86,
   "metadata": {
    "collapsed": false
   },
   "outputs": [
    {
     "data": {
      "text/plain": [
       "date\n",
       "1910-01-01    20.8\n",
       "1910-01-02    24.1\n",
       "1910-01-03    12.6\n",
       "1910-01-04     5.6\n",
       "1910-01-05    14.7\n",
       "Name: Range, dtype: float64"
      ]
     },
     "execution_count": 86,
     "metadata": {},
     "output_type": "execute_result"
    }
   ],
   "source": [
    "range_data = data[DIURNAL_RANGE_HEADING]\n",
    "range_data.head()"
   ]
  },
  {
   "cell_type": "code",
   "execution_count": 94,
   "metadata": {
    "collapsed": false
   },
   "outputs": [],
   "source": [
    "#range_data.plot()"
   ]
  },
  {
   "cell_type": "markdown",
   "metadata": {},
   "source": [
    "### Analysing maximum temperature and diurnal range for correlation"
   ]
  },
  {
   "cell_type": "code",
   "execution_count": 91,
   "metadata": {
    "collapsed": false
   },
   "outputs": [
    {
     "name": "stdout",
     "output_type": "stream",
     "text": [
      "The correlation is 0.654355320973\n",
      "The correlation is strong.\n",
      "It is statistically significant.\n"
     ]
    }
   ],
   "source": [
    "from scipy.stats import spearmanr\n",
    "maxColumn = data[MAX_T_HEADING]\n",
    "rangeColumn = data[DIURNAL_RANGE_HEADING]\n",
    "(correlation, pValue) = spearmanr(maxColumn,rangeColumn)\n",
    "def analyseCorrelation(correlation, pValue):\n",
    "    print('The correlation is', correlation)\n",
    "    posTest = correlation\n",
    "    if correlation < 0: posTest = correlation * -1\n",
    "    if posTest < 0.19: print('The correlation is very weak.')\n",
    "    elif posTest < 0.39: print('The correlation is weak.')\n",
    "    elif posTest < 0.59: print('The correlation is moderate.')\n",
    "    elif posTest < 0.79: print('The correlation is strong.')\n",
    "    else: print('The correlation is very strong.')\n",
    "    if pValue < 0.05:\n",
    "        print('It is statistically significant.')\n",
    "    else:\n",
    "        print('It is not statistically significant.')\n",
    "analyseCorrelation(correlation, pValue)"
   ]
  },
  {
   "cell_type": "markdown",
   "metadata": {},
   "source": [
    "### Analysing minimum temperature and diurnal range for correlation"
   ]
  },
  {
   "cell_type": "code",
   "execution_count": 92,
   "metadata": {
    "collapsed": false
   },
   "outputs": [
    {
     "name": "stdout",
     "output_type": "stream",
     "text": [
      "The correlation is -0.0086541595709\n",
      "The correlation is very weak.\n",
      "It is not statistically significant.\n"
     ]
    }
   ],
   "source": [
    "minColumn = data[MIN_T_HEADING]\n",
    "(correlation, pValue) = spearmanr(minColumn,rangeColumn)\n",
    "analyseCorrelation(correlation, pValue)"
   ]
  },
  {
   "cell_type": "markdown",
   "metadata": {},
   "source": [
    "## Conclusions\n",
    "\n",
    "There is a statistically significant, strong correlation between **maximum temperatures** and **diurnal range**, that is, a strong and significant correlation when maximum temperatures go up, so does diurnal range.\n",
    "\n",
    "However, looking at the minimum temperature and diurnal range, there is a not statistically significant correlation and the inverse correlation is very weak.\n",
    "\n",
    "This means that warmer maximum temperatures are likely to see a larger diurnal range, which may have negative effects on infrastructure including transport, power and buildings, as well as the health of vulnerable people, plants and animals. In climates where high thermal mass construction works well, and with higher maximum temperatures expected due to climate change, high thermal mass building design seems like something worth looking into because thermal comfort is something that will also impact upon power use as well as health of vulnerable groups."
   ]
  }
 ],
 "metadata": {
  "kernelspec": {
   "display_name": "Python 3",
   "language": "python",
   "name": "python3"
  },
  "language_info": {
   "codemirror_mode": {
    "name": "ipython",
    "version": 3
   },
   "file_extension": ".py",
   "mimetype": "text/x-python",
   "name": "python",
   "nbconvert_exporter": "python",
   "pygments_lexer": "ipython3",
   "version": "3.4.3"
  }
 },
 "nbformat": 4,
 "nbformat_minor": 0
}
